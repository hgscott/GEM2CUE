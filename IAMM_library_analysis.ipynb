{
 "cells": [
  {
   "cell_type": "markdown",
   "metadata": {},
   "source": [
    "# Carbon Use Efficiency of Marine Heterotrophs"
   ]
  },
  {
   "cell_type": "code",
   "execution_count": 3,
   "metadata": {},
   "outputs": [],
   "source": [
    "import cobra\n",
    "import os\n",
    "import pandas as pd"
   ]
  },
  {
   "cell_type": "code",
   "execution_count": 4,
   "metadata": {},
   "outputs": [],
   "source": [
    "import gem2cue.utils\n",
    "import gem2cue.calculate_cue"
   ]
  },
  {
   "cell_type": "markdown",
   "metadata": {},
   "source": [
    "## Set-up"
   ]
  },
  {
   "cell_type": "code",
   "execution_count": 5,
   "metadata": {},
   "outputs": [],
   "source": [
    "# Read in the meta-data file as a data frame\n",
    "meta_df = pd.read_csv('IAMM_models/strain_metadata.tsv', sep='\\t')"
   ]
  },
  {
   "cell_type": "code",
   "execution_count": null,
   "metadata": {},
   "outputs": [],
   "source": [
    "meta_df"
   ]
  },
  {
   "cell_type": "code",
   "execution_count": 6,
   "metadata": {},
   "outputs": [
    {
     "name": "stdout",
     "output_type": "stream",
     "text": [
      "Scaling...\n",
      " A: min|aij| =  1.000e+00  max|aij| =  1.000e+00  ratio =  1.000e+00\n",
      "Problem data seem to be well scaled\n"
     ]
    }
   ],
   "source": [
    "# For each row, make a Strain object with the model and metadata from the file\n",
    "strain_list = []\n",
    "for index, row in meta_df.iterrows():\n",
    "    strain_list.append(gem2cue.utils.Strain(row['strain'],\n",
    "                                            cobra.io.read_sbml_model(os.path.join('IAMM_models', row['model_file'])),\n",
    "                                            row['gc_content'],\n",
    "                                            row['genome_length']))"
   ]
  },
  {
   "cell_type": "code",
   "execution_count": null,
   "metadata": {},
   "outputs": [],
   "source": [
    "strain_list"
   ]
  },
  {
   "cell_type": "code",
   "execution_count": null,
   "metadata": {},
   "outputs": [],
   "source": [
    "[strain.genome_length for strain in strain_list]"
   ]
  },
  {
   "cell_type": "code",
   "execution_count": null,
   "metadata": {},
   "outputs": [],
   "source": [
    "strain_list[0].model.medium"
   ]
  },
  {
   "cell_type": "markdown",
   "metadata": {},
   "source": [
    "## Analysis"
   ]
  },
  {
   "cell_type": "markdown",
   "metadata": {},
   "source": [
    "### Experiment 0: Unconstrained"
   ]
  },
  {
   "cell_type": "code",
   "execution_count": 7,
   "metadata": {},
   "outputs": [],
   "source": [
    "# Make an experiment for each Strain\n",
    "media = None\n",
    "unconstrained_experiments = [gem2cue.utils.Experiment(strain, media) for strain in strain_list]"
   ]
  },
  {
   "cell_type": "code",
   "execution_count": 8,
   "metadata": {},
   "outputs": [
    {
     "data": {
      "text/plain": [
       "{'EX_12dgr160_e': 35,\n",
       " 'TAGLIPA160ex': 51,\n",
       " 'DAGLIPA160ex': 16,\n",
       " 'EX_12dgr180_e': 39,\n",
       " 'TAGLIPA180ex': 57,\n",
       " 'DAGLIPA180ex': 18,\n",
       " 'EX_1ag160_e': 19,\n",
       " 'MAGLIPA160ex': 16,\n",
       " 'MAGLIPA180ex': 18,\n",
       " 'EX_1ag180_e': 21,\n",
       " 'EX_1ag181d9_e': 21,\n",
       " 'DAGLIPA181d9ex': 18,\n",
       " 'MAGLIPA181d9ex': 18,\n",
       " 'DAGLIPA182d9d12ex': 18,\n",
       " 'MAGLIPA182d9d12ex': 18,\n",
       " 'EX_1ag182d9d12_e': 21,\n",
       " 'EX_23camp_e': 10,\n",
       " 'EX_23ccmp_e': 9,\n",
       " 'EX_23cgmp_e': 10,\n",
       " 'EX_23cump_e': 9,\n",
       " 'EX_3mb_e': 5,\n",
       " 'EX_4abut_e': 4,\n",
       " 'EX_4hbz_e': 7,\n",
       " 'EX_4oxptn_e': 5,\n",
       " 'EX_6atha_e': 2,\n",
       " 'EX_LalaLglu_e': 8,\n",
       " 'EX_abg4_e': 12,\n",
       " 'EX_ac_e': 2,\n",
       " 'EX_acald_e': 2,\n",
       " 'EX_acgam_e': 8,\n",
       " 'EX_actn__R_e': 4,\n",
       " 'EX_ad_e': 2,\n",
       " 'EX_ala__L_e': 3,\n",
       " 'EX_alahis_e': 9,\n",
       " 'EX_alaleu_e': 9,\n",
       " 'EX_alathr_e': 7,\n",
       " 'EX_alatrp_e': 14,\n",
       " 'EX_algac_MG_14_e': 32,\n",
       " 'EX_algac_MG_23_e': 34,\n",
       " 'EX_algac_MG_32_e': 36,\n",
       " 'EX_algac_MG_41_e': 38,\n",
       " 'EX_algac__M_e': 40,\n",
       " 'EX_arab__D_e': 5,\n",
       " 'EX_arbt6p_e': 12,\n",
       " 'EX_arbt_e': 12,\n",
       " 'EX_arg__L_e': 6,\n",
       " 'EX_asn__L_e': 4,\n",
       " 'EX_asp__L_e': 4,\n",
       " 'EX_but_e': 4,\n",
       " 'EX_butso3_e': 4,\n",
       " 'EX_bz_e': 7,\n",
       " 'EX_chol_e': 5,\n",
       " 'EX_chols_e': 5,\n",
       " 'EX_cinnm_e': 9,\n",
       " 'EX_cmcbtt_e': 33,\n",
       " 'EX_co2_e': 1,\n",
       " 'EX_cys__L_e': 3,\n",
       " 'EX_cytd_e': 9,\n",
       " 'EX_dag181d9_e': 39,\n",
       " 'TAGLIPA181d9ex': 57,\n",
       " 'TAGLIPA182d9d12': 57,\n",
       " 'EX_dag182d9d12_e': 39,\n",
       " 'EX_dca_e': 10,\n",
       " 'EX_ddca_e': 12,\n",
       " 'EX_drib_e': 5,\n",
       " 'EX_enter_e': 30,\n",
       " 'EX_etoh_e': 2,\n",
       " 'EX_fald_e': 1,\n",
       " 'EX_fcmcbtt_e': 33,\n",
       " 'EX_fe3dcit_e': 12,\n",
       " 'EX_fe3dhbzs_e': 10,\n",
       " 'EX_fe3pyovd_kt_e': 27,\n",
       " 'FE3PYOVDL2': 27,\n",
       " 'EX_feoxam_e': 25,\n",
       " 'EX_feoxam_un_e': 25,\n",
       " 'EX_for_e': 1,\n",
       " 'EX_frmd_e': 1,\n",
       " 'EX_fru_e': 6,\n",
       " 'EX_fuc_e': 6,\n",
       " 'EX_g3pe_e': 5,\n",
       " 'EX_gal_e': 6,\n",
       " 'EX_galt_e': 6,\n",
       " 'EX_galur_e': 6,\n",
       " 'EX_gam_e': 6,\n",
       " 'EX_glc__D_e': 6,\n",
       " 'EX_glcur_e': 6,\n",
       " 'EX_gln__L_e': 5,\n",
       " 'EX_glu__L_e': 5,\n",
       " 'EX_gly_e': 2,\n",
       " 'EX_glyb_e': 5,\n",
       " 'EX_glyc_e': 3,\n",
       " 'EX_glygln_e': 7,\n",
       " 'EX_glyglu_e': 7,\n",
       " 'EX_glymet_e': 7,\n",
       " 'EX_glyphe_e': 11,\n",
       " 'EX_glyser_e': 5,\n",
       " 'EX_gthox_e': 20,\n",
       " 'GTHPe': 10,\n",
       " 'EX_gthrd_e': 10,\n",
       " 'EX_gua_e': 5,\n",
       " 'EX_hdca_e': 16,\n",
       " 'EX_hdcea_e': 16,\n",
       " 'EX_hexs_e': 6,\n",
       " 'EX_his__L_e': 6,\n",
       " 'EX_hisgly_e': 8,\n",
       " 'EX_hishis_e': 12,\n",
       " 'EX_hxa_e': 6,\n",
       " 'EX_hxan_e': 5,\n",
       " 'EX_ile__L_e': 6,\n",
       " 'EX_indole_e': 8,\n",
       " 'EX_inost_e': 6,\n",
       " 'EX_lac__L_e': 3,\n",
       " 'EX_leu__L_e': 6,\n",
       " 'EX_leuleu_e': 12,\n",
       " 'EX_lnlc_e': 18,\n",
       " 'EX_lys__L_e': 6,\n",
       " 'EX_m_xyl_e': 8,\n",
       " 'EX_mal__D_e': 4,\n",
       " 'EX_mal__L_e': 4,\n",
       " 'EX_malthx_e': 36,\n",
       " 'EX_man_e': 6,\n",
       " 'EX_meoh_e': 1,\n",
       " 'EX_met__D_e': 5,\n",
       " 'EX_met__L_e': 5,\n",
       " 'EX_mnl1p_e': 6,\n",
       " 'EX_mnl_e': 6,\n",
       " 'EX_nona_e': 9,\n",
       " 'EX_ocdca_e': 18,\n",
       " 'EX_ocdcea_e': 18,\n",
       " 'EX_octa_e': 8,\n",
       " 'EX_orn_e': 5,\n",
       " 'EX_oxa_e': 2,\n",
       " 'EX_p_xyl_e': 8,\n",
       " 'EX_pacald_e': 8,\n",
       " 'EX_phe__L_e': 9,\n",
       " 'EX_phedca_e': 16,\n",
       " 'EX_pheme_e': 34,\n",
       " 'EX_phenona_e': 15,\n",
       " 'EX_ppa_e': 3,\n",
       " 'EX_ppoh_e': 3,\n",
       " 'EX_pro__L_e': 5,\n",
       " 'EX_progly_e': 7,\n",
       " 'EX_ptrc_e': 4,\n",
       " 'EX_ptsla_e': 18,\n",
       " 'EX_pyovd_kt_e': 27,\n",
       " 'EX_pyr_e': 3,\n",
       " 'EX_rib__D_e': 5,\n",
       " 'EX_salchs4_e': 42,\n",
       " 'EX_salchs4fe_e': 42,\n",
       " 'EX_ser__L_e': 3,\n",
       " 'EX_sheme_e': 42,\n",
       " 'EX_skm_e': 7,\n",
       " 'EX_spmd_e': 7,\n",
       " 'EX_succ_e': 4,\n",
       " 'EX_tag160_e': 51,\n",
       " 'EX_tag180_e': 57,\n",
       " 'EX_tag181d9_e': 57,\n",
       " 'EX_tag182d9d12_e': 57,\n",
       " 'EX_tartr__L_e': 4,\n",
       " 'EX_taur_e': 2,\n",
       " 'EX_thr__L_e': 4,\n",
       " 'EX_thym_e': 5,\n",
       " 'EX_tol_e': 7,\n",
       " 'EX_tre6p_e': 12,\n",
       " 'EX_tre_e': 12,\n",
       " 'EX_trp__L_e': 11,\n",
       " 'EX_ttdca_e': 14,\n",
       " 'EX_ttdcea_e': 14,\n",
       " 'EX_tyr__L_e': 9,\n",
       " 'EX_udcpdp_e': 55,\n",
       " 'UDCPDPex': 55,\n",
       " 'EX_udcpp_e': 55,\n",
       " 'EX_ura_e': 4,\n",
       " 'EX_urea_e': 1,\n",
       " 'EX_uri_e': 9,\n",
       " 'EX_vacc_e': 18,\n",
       " 'EX_val__L_e': 5,\n",
       " 'EX_xan_e': 5}"
      ]
     },
     "execution_count": 8,
     "metadata": {},
     "output_type": "execute_result"
    }
   ],
   "source": [
    "unconstrained_experiments[0].atomExchangeMetabolite(ex_nomenclatue={'C_e'})"
   ]
  },
  {
   "cell_type": "markdown",
   "metadata": {},
   "source": [
    "### Experiment 1: Glucose"
   ]
  },
  {
   "cell_type": "code",
   "execution_count": null,
   "metadata": {},
   "outputs": [],
   "source": [
    "# Make the medium I want all to use for all of the "
   ]
  },
  {
   "cell_type": "markdown",
   "metadata": {},
   "source": [
    "### Experiment 2: Acetate"
   ]
  },
  {
   "cell_type": "code",
   "execution_count": null,
   "metadata": {},
   "outputs": [],
   "source": []
  },
  {
   "cell_type": "markdown",
   "metadata": {},
   "source": [
    "## Visualization"
   ]
  }
 ],
 "metadata": {
  "interpreter": {
   "hash": "065710dd644577000ae0455ed90b8fe02912ddb5a014f65b24543f17874c118c"
  },
  "kernelspec": {
   "display_name": "Python 3.10.2 ('CUE')",
   "language": "python",
   "name": "python3"
  },
  "language_info": {
   "codemirror_mode": {
    "name": "ipython",
    "version": 3
   },
   "file_extension": ".py",
   "mimetype": "text/x-python",
   "name": "python",
   "nbconvert_exporter": "python",
   "pygments_lexer": "ipython3",
   "version": "3.10.2"
  },
  "orig_nbformat": 4
 },
 "nbformat": 4,
 "nbformat_minor": 2
}
