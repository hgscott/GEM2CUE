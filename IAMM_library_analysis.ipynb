{
 "cells": [
  {
   "cell_type": "markdown",
   "metadata": {},
   "source": [
    "# Carbon Use Efficiency of Marine Heterotrophs"
   ]
  },
  {
   "cell_type": "code",
   "execution_count": 1,
   "metadata": {},
   "outputs": [],
   "source": [
    "import cobra\n",
    "import os\n",
    "import pandas as pd"
   ]
  },
  {
   "cell_type": "code",
   "execution_count": 2,
   "metadata": {},
   "outputs": [],
   "source": [
    "import gem2cue.utils\n",
    "import gem2cue.calculate_cue"
   ]
  },
  {
   "cell_type": "markdown",
   "metadata": {},
   "source": [
    "## Set-up"
   ]
  },
  {
   "cell_type": "code",
   "execution_count": 3,
   "metadata": {},
   "outputs": [],
   "source": [
    "# Read in the meta-data file as a data frame\n",
    "meta_df = pd.read_csv('IAMM_models/strain_metadata.tsv', sep='\\t')"
   ]
  },
  {
   "cell_type": "code",
   "execution_count": 4,
   "metadata": {},
   "outputs": [
    {
     "name": "stdout",
     "output_type": "stream",
     "text": [
      "Scaling...\n",
      " A: min|aij| =  1.000e+00  max|aij| =  1.000e+00  ratio =  1.000e+00\n",
      "Problem data seem to be well scaled\n"
     ]
    }
   ],
   "source": [
    "# For each row, make a Strain object with the model and metadata from the file\n",
    "strain_list = []\n",
    "for index, row in meta_df.iterrows():\n",
    "    strain_list.append(gem2cue.utils.Strain(row['strain'],\n",
    "                                            cobra.io.read_sbml_model(os.path.join('IAMM_models', row['model_file'])),\n",
    "                                            row['gc_content'],\n",
    "                                            row['genome_length']))"
   ]
  },
  {
   "cell_type": "markdown",
   "metadata": {},
   "source": [
    "## Analysis"
   ]
  },
  {
   "cell_type": "markdown",
   "metadata": {},
   "source": [
    "### Experiment 0: Unconstrained"
   ]
  },
  {
   "cell_type": "code",
   "execution_count": 5,
   "metadata": {},
   "outputs": [],
   "source": [
    "# Set the media to be the same as in one of the strains\n",
    "media = strain_list[0].model.medium\n",
    "\n",
    "# Make an experiment for each Strain\n",
    "unconstrained_experiments = [gem2cue.utils.Experiment(strain, media) for strain in strain_list]"
   ]
  },
  {
   "cell_type": "code",
   "execution_count": 7,
   "metadata": {},
   "outputs": [
    {
     "data": {
      "text/plain": [
       "{'EX_12dgr160_e': 1000.0,\n",
       " 'EX_12dgr180_e': 1000.0,\n",
       " 'EX_1ag160_e': 1000.0,\n",
       " 'EX_1ag180_e': 1000.0,\n",
       " 'EX_1ag181d9_e': 1000.0,\n",
       " 'EX_1ag182d9d12_e': 1000.0,\n",
       " 'EX_23camp_e': 1000.0,\n",
       " 'EX_23ccmp_e': 1000.0,\n",
       " 'EX_23cgmp_e': 1000.0,\n",
       " 'EX_23cump_e': 1000.0,\n",
       " 'EX_2m35mdntha_e': 1000.0,\n",
       " 'EX_35dnta_e': 1000.0,\n",
       " 'EX_3h4atb_e': 1000.0,\n",
       " 'EX_3mb_e': 1000.0,\n",
       " 'EX_4abut_e': 1000.0,\n",
       " 'EX_4hbz_e': 1000.0,\n",
       " 'EX_4oxptn_e': 1000.0,\n",
       " 'EX_6atha_e': 1000.0,\n",
       " 'EX_LalaLglu_e': 1000.0,\n",
       " 'EX_abg4_e': 1000.0,\n",
       " 'EX_ac_e': 1000.0,\n",
       " 'EX_acald_e': 1000.0,\n",
       " 'EX_acgam_e': 1000.0,\n",
       " 'EX_actn__R_e': 1000.0,\n",
       " 'EX_ad_e': 1000.0,\n",
       " 'EX_ala__L_e': 1000.0,\n",
       " 'EX_alahis_e': 1000.0,\n",
       " 'EX_alaleu_e': 1000.0,\n",
       " 'EX_alathr_e': 1000.0,\n",
       " 'EX_alatrp_e': 1000.0,\n",
       " 'EX_algac_MG_14_e': 1000.0,\n",
       " 'EX_algac_MG_23_e': 1000.0,\n",
       " 'EX_algac_MG_32_e': 1000.0,\n",
       " 'EX_algac_MG_41_e': 1000.0,\n",
       " 'EX_algac__M_e': 1000.0,\n",
       " 'EX_arab__D_e': 1000.0,\n",
       " 'EX_arbt6p_e': 1000.0,\n",
       " 'EX_arbt_e': 1000.0,\n",
       " 'EX_arg__L_e': 1000.0,\n",
       " 'EX_asn__L_e': 1000.0,\n",
       " 'EX_aso3_e': 1000.0,\n",
       " 'EX_aso4_e': 1000.0,\n",
       " 'EX_asp__L_e': 1000.0,\n",
       " 'EX_but_e': 1000.0,\n",
       " 'EX_butso3_e': 1000.0,\n",
       " 'EX_bz_e': 1000.0,\n",
       " 'EX_ca2_e': 1000.0,\n",
       " 'EX_chol_e': 1000.0,\n",
       " 'EX_chols_e': 1000.0,\n",
       " 'EX_cinnm_e': 1000.0,\n",
       " 'EX_cl_e': 1000.0,\n",
       " 'EX_cmcbtt_e': 1000.0,\n",
       " 'EX_co2_e': 1000.0,\n",
       " 'EX_cobalt2_e': 1000.0,\n",
       " 'EX_cu2_e': 1000.0,\n",
       " 'EX_cys__L_e': 1000.0,\n",
       " 'EX_cytd_e': 1000.0,\n",
       " 'EX_dag181d9_e': 1000.0,\n",
       " 'EX_dag182d9d12_e': 1000.0,\n",
       " 'EX_dca_e': 1000.0,\n",
       " 'EX_ddca_e': 1000.0,\n",
       " 'EX_drib_e': 1000.0,\n",
       " 'EX_enter_e': 1000.0,\n",
       " 'EX_etoh_e': 1000.0,\n",
       " 'EX_fald_e': 1000.0,\n",
       " 'EX_fcmcbtt_e': 1000.0,\n",
       " 'EX_fe2_e': 1000.0,\n",
       " 'EX_fe3_e': 1000.0,\n",
       " 'EX_fe3dcit_e': 1000.0,\n",
       " 'EX_fe3dhbzs_e': 1000.0,\n",
       " 'EX_fe3pyovd_kt_e': 1000.0,\n",
       " 'EX_feoxam_e': 1000.0,\n",
       " 'EX_feoxam_un_e': 1000.0,\n",
       " 'EX_for_e': 1000.0,\n",
       " 'EX_frmd_e': 1000.0,\n",
       " 'EX_fru_e': 1000.0,\n",
       " 'EX_fuc_e': 1000.0,\n",
       " 'EX_g3pe_e': 1000.0,\n",
       " 'EX_gal_e': 1000.0,\n",
       " 'EX_galt_e': 1000.0,\n",
       " 'EX_galur_e': 1000.0,\n",
       " 'EX_gam_e': 1000.0,\n",
       " 'EX_glc__D_e': 1000.0,\n",
       " 'EX_glcur_e': 1000.0,\n",
       " 'EX_gln__L_e': 1000.0,\n",
       " 'EX_glu__L_e': 1000.0,\n",
       " 'EX_gly_e': 1000.0,\n",
       " 'EX_glyb_e': 1000.0,\n",
       " 'EX_glyc_e': 1000.0,\n",
       " 'EX_glygln_e': 1000.0,\n",
       " 'EX_glyglu_e': 1000.0,\n",
       " 'EX_glymet_e': 1000.0,\n",
       " 'EX_glyphe_e': 1000.0,\n",
       " 'EX_glyser_e': 1000.0,\n",
       " 'EX_gthox_e': 1000.0,\n",
       " 'EX_gthrd_e': 1000.0,\n",
       " 'EX_gua_e': 1000.0,\n",
       " 'EX_h2_e': 1000.0,\n",
       " 'EX_h2o2_e': 1000.0,\n",
       " 'EX_h2o_e': 1000.0,\n",
       " 'EX_h2s_e': 1000.0,\n",
       " 'EX_h_e': 1000.0,\n",
       " 'EX_hdca_e': 1000.0,\n",
       " 'EX_hdcea_e': 1000.0,\n",
       " 'EX_hexs_e': 1000.0,\n",
       " 'EX_his__L_e': 1000.0,\n",
       " 'EX_hisgly_e': 1000.0,\n",
       " 'EX_hishis_e': 1000.0,\n",
       " 'EX_hxa_e': 1000.0,\n",
       " 'EX_hxan_e': 1000.0,\n",
       " 'EX_ile__L_e': 1000.0,\n",
       " 'EX_indole_e': 1000.0,\n",
       " 'EX_inost_e': 1000.0,\n",
       " 'EX_k_e': 1000.0,\n",
       " 'EX_lac__L_e': 1000.0,\n",
       " 'EX_leu__L_e': 1000.0,\n",
       " 'EX_leuleu_e': 1000.0,\n",
       " 'EX_lnlc_e': 1000.0,\n",
       " 'EX_lys__L_e': 1000.0,\n",
       " 'EX_m_xyl_e': 1000.0,\n",
       " 'EX_mal__D_e': 1000.0,\n",
       " 'EX_mal__L_e': 1000.0,\n",
       " 'EX_malthx_e': 1000.0,\n",
       " 'EX_man_e': 1000.0,\n",
       " 'EX_meoh_e': 1000.0,\n",
       " 'EX_met__D_e': 1000.0,\n",
       " 'EX_met__L_e': 1000.0,\n",
       " 'EX_mg2_e': 1000.0,\n",
       " 'EX_mn2_e': 1000.0,\n",
       " 'EX_mnl1p_e': 1000.0,\n",
       " 'EX_mnl_e': 1000.0,\n",
       " 'EX_mobd_e': 1000.0,\n",
       " 'EX_nh4_e': 1000.0,\n",
       " 'EX_no2_e': 1000.0,\n",
       " 'EX_no3_e': 1000.0,\n",
       " 'EX_no_e': 1000.0,\n",
       " 'EX_nona_e': 1000.0,\n",
       " 'EX_o2_e': 1000.0,\n",
       " 'EX_ocdca_e': 1000.0,\n",
       " 'EX_ocdcea_e': 1000.0,\n",
       " 'EX_octa_e': 1000.0,\n",
       " 'EX_orn_e': 1000.0,\n",
       " 'EX_oxa_e': 1000.0,\n",
       " 'EX_p_xyl_e': 1000.0,\n",
       " 'EX_pacald_e': 1000.0,\n",
       " 'EX_phe__L_e': 1000.0,\n",
       " 'EX_phedca_e': 1000.0,\n",
       " 'EX_pheme_e': 1000.0,\n",
       " 'EX_phenona_e': 1000.0,\n",
       " 'EX_pi_e': 1000.0,\n",
       " 'EX_ppa_e': 1000.0,\n",
       " 'EX_ppoh_e': 1000.0,\n",
       " 'EX_pro__L_e': 1000.0,\n",
       " 'EX_progly_e': 1000.0,\n",
       " 'EX_ptrc_e': 1000.0,\n",
       " 'EX_ptsla_e': 1000.0,\n",
       " 'EX_pyovd_kt_e': 1000.0,\n",
       " 'EX_pyr_e': 1000.0,\n",
       " 'EX_rib__D_e': 1000.0,\n",
       " 'EX_s_e': 1000.0,\n",
       " 'EX_salchs4_e': 1000.0,\n",
       " 'EX_salchs4fe_e': 1000.0,\n",
       " 'EX_ser__L_e': 1000.0,\n",
       " 'EX_sheme_e': 1000.0,\n",
       " 'EX_skm_e': 1000.0,\n",
       " 'EX_so3_e': 1000.0,\n",
       " 'EX_so4_e': 1000.0,\n",
       " 'EX_spmd_e': 1000.0,\n",
       " 'EX_succ_e': 1000.0,\n",
       " 'EX_tag160_e': 1000.0,\n",
       " 'EX_tag180_e': 1000.0,\n",
       " 'EX_tag181d9_e': 1000.0,\n",
       " 'EX_tag182d9d12_e': 1000.0,\n",
       " 'EX_tartr__L_e': 1000.0,\n",
       " 'EX_taur_e': 1000.0,\n",
       " 'EX_thr__L_e': 1000.0,\n",
       " 'EX_thym_e': 1000.0,\n",
       " 'EX_tnt_e': 1000.0,\n",
       " 'EX_tol_e': 1000.0,\n",
       " 'EX_tre6p_e': 1000.0,\n",
       " 'EX_tre_e': 1000.0,\n",
       " 'EX_trp__L_e': 1000.0,\n",
       " 'EX_tsul_e': 1000.0,\n",
       " 'EX_ttdca_e': 1000.0,\n",
       " 'EX_ttdcea_e': 1000.0,\n",
       " 'EX_tyr__L_e': 1000.0,\n",
       " 'EX_udcpdp_e': 1000.0,\n",
       " 'EX_udcpp_e': 1000.0,\n",
       " 'EX_ura_e': 1000.0,\n",
       " 'EX_urea_e': 1000.0,\n",
       " 'EX_uri_e': 1000.0,\n",
       " 'EX_vacc_e': 1000.0,\n",
       " 'EX_val__L_e': 1000.0,\n",
       " 'EX_xan_e': 1000.0,\n",
       " 'EX_zn2_e': 1000.0}"
      ]
     },
     "execution_count": 7,
     "metadata": {},
     "output_type": "execute_result"
    }
   ],
   "source": [
    "strain_list[0].model.medium"
   ]
  },
  {
   "cell_type": "code",
   "execution_count": 10,
   "metadata": {},
   "outputs": [
    {
     "data": {
      "text/plain": [
       "dict_keys(['EX_12dgr160_e', 'EX_12dgr180_e', 'EX_1ag160_e', 'EX_1ag180_e', 'EX_1ag181d9_e', 'EX_1ag182d9d12_e', 'EX_23camp_e', 'EX_23ccmp_e', 'EX_23cgmp_e', 'EX_23cump_e', 'EX_2m35mdntha_e', 'EX_35dnta_e', 'EX_3h4atb_e', 'EX_3mb_e', 'EX_4abut_e', 'EX_4hbz_e', 'EX_4oxptn_e', 'EX_6atha_e', 'EX_LalaLglu_e', 'EX_abg4_e', 'EX_ac_e', 'EX_acald_e', 'EX_acgam_e', 'EX_actn__R_e', 'EX_ad_e', 'EX_ala__L_e', 'EX_alahis_e', 'EX_alaleu_e', 'EX_alathr_e', 'EX_alatrp_e', 'EX_algac_MG_14_e', 'EX_algac_MG_23_e', 'EX_algac_MG_32_e', 'EX_algac_MG_41_e', 'EX_algac__M_e', 'EX_arab__D_e', 'EX_arbt6p_e', 'EX_arbt_e', 'EX_arg__L_e', 'EX_asn__L_e', 'EX_aso3_e', 'EX_aso4_e', 'EX_asp__L_e', 'EX_but_e', 'EX_butso3_e', 'EX_bz_e', 'EX_ca2_e', 'EX_chol_e', 'EX_chols_e', 'EX_cinnm_e', 'EX_cl_e', 'EX_cmcbtt_e', 'EX_co2_e', 'EX_cobalt2_e', 'EX_cu2_e', 'EX_cys__L_e', 'EX_cytd_e', 'EX_dag181d9_e', 'EX_dag182d9d12_e', 'EX_dca_e', 'EX_ddca_e', 'EX_drib_e', 'EX_enter_e', 'EX_etoh_e', 'EX_fald_e', 'EX_fcmcbtt_e', 'EX_fe2_e', 'EX_fe3_e', 'EX_fe3dcit_e', 'EX_fe3dhbzs_e', 'EX_fe3pyovd_kt_e', 'EX_feoxam_e', 'EX_feoxam_un_e', 'EX_for_e', 'EX_frmd_e', 'EX_fru_e', 'EX_fuc_e', 'EX_g3pe_e', 'EX_gal_e', 'EX_galt_e', 'EX_galur_e', 'EX_gam_e', 'EX_glc__D_e', 'EX_glcur_e', 'EX_gln__L_e', 'EX_glu__L_e', 'EX_gly_e', 'EX_glyb_e', 'EX_glyc_e', 'EX_glygln_e', 'EX_glyglu_e', 'EX_glymet_e', 'EX_glyphe_e', 'EX_glyser_e', 'EX_gthox_e', 'EX_gthrd_e', 'EX_gua_e', 'EX_h2_e', 'EX_h2o2_e', 'EX_h2o_e', 'EX_h2s_e', 'EX_h_e', 'EX_hdca_e', 'EX_hdcea_e', 'EX_hexs_e', 'EX_his__L_e', 'EX_hisgly_e', 'EX_hishis_e', 'EX_hxa_e', 'EX_hxan_e', 'EX_ile__L_e', 'EX_indole_e', 'EX_inost_e', 'EX_k_e', 'EX_lac__L_e', 'EX_leu__L_e', 'EX_leuleu_e', 'EX_lnlc_e', 'EX_lys__L_e', 'EX_m_xyl_e', 'EX_mal__D_e', 'EX_mal__L_e', 'EX_malthx_e', 'EX_man_e', 'EX_meoh_e', 'EX_met__D_e', 'EX_met__L_e', 'EX_mg2_e', 'EX_mn2_e', 'EX_mnl1p_e', 'EX_mnl_e', 'EX_mobd_e', 'EX_nh4_e', 'EX_no2_e', 'EX_no3_e', 'EX_no_e', 'EX_nona_e', 'EX_o2_e', 'EX_ocdca_e', 'EX_ocdcea_e', 'EX_octa_e', 'EX_orn_e', 'EX_oxa_e', 'EX_p_xyl_e', 'EX_pacald_e', 'EX_phe__L_e', 'EX_phedca_e', 'EX_pheme_e', 'EX_phenona_e', 'EX_pi_e', 'EX_ppa_e', 'EX_ppoh_e', 'EX_pro__L_e', 'EX_progly_e', 'EX_ptrc_e', 'EX_ptsla_e', 'EX_pyovd_kt_e', 'EX_pyr_e', 'EX_rib__D_e', 'EX_s_e', 'EX_salchs4_e', 'EX_salchs4fe_e', 'EX_ser__L_e', 'EX_sheme_e', 'EX_skm_e', 'EX_so3_e', 'EX_so4_e', 'EX_spmd_e', 'EX_succ_e', 'EX_tag160_e', 'EX_tag180_e', 'EX_tag181d9_e', 'EX_tag182d9d12_e', 'EX_tartr__L_e', 'EX_taur_e', 'EX_thr__L_e', 'EX_thym_e', 'EX_tnt_e', 'EX_tol_e', 'EX_tre6p_e', 'EX_tre_e', 'EX_trp__L_e', 'EX_tsul_e', 'EX_ttdca_e', 'EX_ttdcea_e', 'EX_tyr__L_e', 'EX_udcpdp_e', 'EX_udcpp_e', 'EX_ura_e', 'EX_urea_e', 'EX_uri_e', 'EX_vacc_e', 'EX_val__L_e', 'EX_xan_e', 'EX_zn2_e'])"
      ]
     },
     "execution_count": 10,
     "metadata": {},
     "output_type": "execute_result"
    }
   ],
   "source": [
    "strain_list[0].model.medium.keys()"
   ]
  },
  {
   "cell_type": "code",
   "execution_count": 6,
   "metadata": {},
   "outputs": [
    {
     "name": "stderr",
     "output_type": "stream",
     "text": [
      "/home/helen/miniconda3/envs/CUE/lib/python3.10/site-packages/cobra/core/dictlist.py:214: SyntaxWarning: \"is\" with a literal. Did you mean \"==\"?\n",
      "  if current_length is 0:\n",
      "/home/helen/miniconda3/envs/CUE/lib/python3.10/site-packages/cobra/core/dictlist.py:214: SyntaxWarning: \"is\" with a literal. Did you mean \"==\"?\n",
      "  if current_length is 0:\n"
     ]
    },
    {
     "ename": "KeyError",
     "evalue": "'EX_12dgr160_e'",
     "output_type": "error",
     "traceback": [
      "\u001b[0;31m---------------------------------------------------------------------------\u001b[0m",
      "\u001b[0;31mKeyError\u001b[0m                                  Traceback (most recent call last)",
      "\u001b[1;32m/home/helen/Documents/PhD/Segre Lab/GEM2CUE/IAMM_library_analysis.ipynb Cell 10'\u001b[0m in \u001b[0;36m<cell line: 2>\u001b[0;34m()\u001b[0m\n\u001b[1;32m      <a href='vscode-notebook-cell:/home/helen/Documents/PhD/Segre%20Lab/GEM2CUE/IAMM_library_analysis.ipynb#ch0000026?line=0'>1</a>\u001b[0m \u001b[39m# Calculate CUE for all of the Experiments\u001b[39;00m\n\u001b[1;32m      <a href='vscode-notebook-cell:/home/helen/Documents/PhD/Segre%20Lab/GEM2CUE/IAMM_library_analysis.ipynb#ch0000026?line=1'>2</a>\u001b[0m \u001b[39mfor\u001b[39;00m exp \u001b[39min\u001b[39;00m unconstrained_experiments:\n\u001b[0;32m----> <a href='vscode-notebook-cell:/home/helen/Documents/PhD/Segre%20Lab/GEM2CUE/IAMM_library_analysis.ipynb#ch0000026?line=2'>3</a>\u001b[0m     exp\u001b[39m.\u001b[39;49mCUE(ex_nomenclature \u001b[39m=\u001b[39;49m {\u001b[39m'\u001b[39;49m\u001b[39mC_e\u001b[39;49m\u001b[39m'\u001b[39;49m})\n",
      "File \u001b[0;32m~/Documents/PhD/Segre Lab/GEM2CUE/gem2cue/utils.py:117\u001b[0m, in \u001b[0;36mExperiment.CUE\u001b[0;34m(self, co2_rxn, ex_nomenclature, definition)\u001b[0m\n\u001b[1;32m    <a href='file:///home/helen/Documents/PhD/Segre%20Lab/GEM2CUE/gem2cue/utils.py?line=114'>115</a>\u001b[0m \u001b[39m# If the experiment does not have a solution, run it\u001b[39;00m\n\u001b[1;32m    <a href='file:///home/helen/Documents/PhD/Segre%20Lab/GEM2CUE/gem2cue/utils.py?line=115'>116</a>\u001b[0m \u001b[39mif\u001b[39;00m \u001b[39mself\u001b[39m\u001b[39m.\u001b[39msolution \u001b[39mis\u001b[39;00m \u001b[39mNone\u001b[39;00m:\n\u001b[0;32m--> <a href='file:///home/helen/Documents/PhD/Segre%20Lab/GEM2CUE/gem2cue/utils.py?line=116'>117</a>\u001b[0m     \u001b[39mself\u001b[39;49m\u001b[39m.\u001b[39;49mrun()\n\u001b[1;32m    <a href='file:///home/helen/Documents/PhD/Segre%20Lab/GEM2CUE/gem2cue/utils.py?line=118'>119</a>\u001b[0m \u001b[39m# Get C atoms for each exchange reaction\u001b[39;00m\n\u001b[1;32m    <a href='file:///home/helen/Documents/PhD/Segre%20Lab/GEM2CUE/gem2cue/utils.py?line=119'>120</a>\u001b[0m ex_c_atoms \u001b[39m=\u001b[39m \u001b[39mself\u001b[39m\u001b[39m.\u001b[39m_atomExchangeMetabolite(ex_nomenclature \u001b[39m=\u001b[39m ex_nomenclature)\n",
      "File \u001b[0;32m~/Documents/PhD/Segre Lab/GEM2CUE/gem2cue/utils.py:68\u001b[0m, in \u001b[0;36mExperiment.run\u001b[0;34m(self)\u001b[0m\n\u001b[1;32m     <a href='file:///home/helen/Documents/PhD/Segre%20Lab/GEM2CUE/gem2cue/utils.py?line=64'>65</a>\u001b[0m     warnings\u001b[39m.\u001b[39mwarn(\u001b[39m'\u001b[39m\u001b[39mThere is already a solution saved to this experiment, running will overwrite those results\u001b[39m\u001b[39m'\u001b[39m)\n\u001b[1;32m     <a href='file:///home/helen/Documents/PhD/Segre%20Lab/GEM2CUE/gem2cue/utils.py?line=66'>67</a>\u001b[0m \u001b[39m# Change the media cobrapy is using to match what is in the experiment\u001b[39;00m\n\u001b[0;32m---> <a href='file:///home/helen/Documents/PhD/Segre%20Lab/GEM2CUE/gem2cue/utils.py?line=67'>68</a>\u001b[0m \u001b[39mself\u001b[39m\u001b[39m.\u001b[39mstrain\u001b[39m.\u001b[39mmodel\u001b[39m.\u001b[39mmedium \u001b[39m=\u001b[39m \u001b[39mself\u001b[39m\u001b[39m.\u001b[39mmedia\n\u001b[1;32m     <a href='file:///home/helen/Documents/PhD/Segre%20Lab/GEM2CUE/gem2cue/utils.py?line=69'>70</a>\u001b[0m \u001b[39m# Solve FBA\u001b[39;00m\n\u001b[1;32m     <a href='file:///home/helen/Documents/PhD/Segre%20Lab/GEM2CUE/gem2cue/utils.py?line=70'>71</a>\u001b[0m sol \u001b[39m=\u001b[39m \u001b[39mself\u001b[39m\u001b[39m.\u001b[39mstrain\u001b[39m.\u001b[39mmodel\u001b[39m.\u001b[39moptimize()\n",
      "File \u001b[0;32m~/miniconda3/envs/CUE/lib/python3.10/site-packages/cobra/core/model.py:279\u001b[0m, in \u001b[0;36mModel.medium\u001b[0;34m(self, medium)\u001b[0m\n\u001b[1;32m    <a href='file:///home/helen/miniconda3/envs/CUE/lib/python3.10/site-packages/cobra/core/model.py?line=276'>277</a>\u001b[0m exchange_rxns \u001b[39m=\u001b[39m \u001b[39mfrozenset\u001b[39m(\u001b[39mself\u001b[39m\u001b[39m.\u001b[39mexchanges)\n\u001b[1;32m    <a href='file:///home/helen/miniconda3/envs/CUE/lib/python3.10/site-packages/cobra/core/model.py?line=277'>278</a>\u001b[0m \u001b[39mfor\u001b[39;00m rxn_id, bound \u001b[39min\u001b[39;00m medium\u001b[39m.\u001b[39mitems():\n\u001b[0;32m--> <a href='file:///home/helen/miniconda3/envs/CUE/lib/python3.10/site-packages/cobra/core/model.py?line=278'>279</a>\u001b[0m     rxn \u001b[39m=\u001b[39m \u001b[39mself\u001b[39;49m\u001b[39m.\u001b[39;49mreactions\u001b[39m.\u001b[39;49mget_by_id(rxn_id)\n\u001b[1;32m    <a href='file:///home/helen/miniconda3/envs/CUE/lib/python3.10/site-packages/cobra/core/model.py?line=279'>280</a>\u001b[0m     \u001b[39mif\u001b[39;00m rxn \u001b[39mnot\u001b[39;00m \u001b[39min\u001b[39;00m exchange_rxns:\n\u001b[1;32m    <a href='file:///home/helen/miniconda3/envs/CUE/lib/python3.10/site-packages/cobra/core/model.py?line=280'>281</a>\u001b[0m         logger\u001b[39m.\u001b[39mwarning(\n\u001b[1;32m    <a href='file:///home/helen/miniconda3/envs/CUE/lib/python3.10/site-packages/cobra/core/model.py?line=281'>282</a>\u001b[0m             \u001b[39m\"\u001b[39m\u001b[39m%s\u001b[39;00m\u001b[39m does not seem to be an\u001b[39m\u001b[39m\"\u001b[39m\n\u001b[1;32m    <a href='file:///home/helen/miniconda3/envs/CUE/lib/python3.10/site-packages/cobra/core/model.py?line=282'>283</a>\u001b[0m             \u001b[39m\"\u001b[39m\u001b[39m an exchange reaction. Applying bounds anyway.\u001b[39m\u001b[39m\"\u001b[39m,\n\u001b[1;32m    <a href='file:///home/helen/miniconda3/envs/CUE/lib/python3.10/site-packages/cobra/core/model.py?line=283'>284</a>\u001b[0m             rxn\u001b[39m.\u001b[39mid,\n\u001b[1;32m    <a href='file:///home/helen/miniconda3/envs/CUE/lib/python3.10/site-packages/cobra/core/model.py?line=284'>285</a>\u001b[0m         )\n",
      "File \u001b[0;32m~/miniconda3/envs/CUE/lib/python3.10/site-packages/cobra/core/dictlist.py:57\u001b[0m, in \u001b[0;36mDictList.get_by_id\u001b[0;34m(self, id)\u001b[0m\n\u001b[1;32m     <a href='file:///home/helen/miniconda3/envs/CUE/lib/python3.10/site-packages/cobra/core/dictlist.py?line=54'>55</a>\u001b[0m \u001b[39mdef\u001b[39;00m \u001b[39mget_by_id\u001b[39m(\u001b[39mself\u001b[39m, \u001b[39mid\u001b[39m):\n\u001b[1;32m     <a href='file:///home/helen/miniconda3/envs/CUE/lib/python3.10/site-packages/cobra/core/dictlist.py?line=55'>56</a>\u001b[0m     \u001b[39m\"\"\"return the element with a matching id\"\"\"\u001b[39;00m\n\u001b[0;32m---> <a href='file:///home/helen/miniconda3/envs/CUE/lib/python3.10/site-packages/cobra/core/dictlist.py?line=56'>57</a>\u001b[0m     \u001b[39mreturn\u001b[39;00m \u001b[39mlist\u001b[39m\u001b[39m.\u001b[39m\u001b[39m__getitem__\u001b[39m(\u001b[39mself\u001b[39m, \u001b[39mself\u001b[39;49m\u001b[39m.\u001b[39;49m_dict[\u001b[39mid\u001b[39;49m])\n",
      "\u001b[0;31mKeyError\u001b[0m: 'EX_12dgr160_e'"
     ]
    }
   ],
   "source": [
    "# Calculate CUE for all of the Experiments\n",
    "for exp in unconstrained_experiments:\n",
    "    exp.CUE(ex_nomenclature = {'C_e'})"
   ]
  },
  {
   "cell_type": "code",
   "execution_count": null,
   "metadata": {},
   "outputs": [],
   "source": [
    "# Pull out all of the CUE results\n",
    "[exp.cue for exp in unconstrained_experiments]"
   ]
  },
  {
   "cell_type": "markdown",
   "metadata": {},
   "source": [
    "### Experiment 1: Glucose"
   ]
  },
  {
   "cell_type": "code",
   "execution_count": null,
   "metadata": {},
   "outputs": [],
   "source": [
    "# Make the medium I want all to use for all of the "
   ]
  },
  {
   "cell_type": "markdown",
   "metadata": {},
   "source": [
    "### Experiment 2: Acetate"
   ]
  },
  {
   "cell_type": "code",
   "execution_count": null,
   "metadata": {},
   "outputs": [],
   "source": []
  },
  {
   "cell_type": "markdown",
   "metadata": {},
   "source": [
    "## Visualization"
   ]
  }
 ],
 "metadata": {
  "interpreter": {
   "hash": "065710dd644577000ae0455ed90b8fe02912ddb5a014f65b24543f17874c118c"
  },
  "kernelspec": {
   "display_name": "Python 3.10.2 ('CUE')",
   "language": "python",
   "name": "python3"
  },
  "language_info": {
   "codemirror_mode": {
    "name": "ipython",
    "version": 3
   },
   "file_extension": ".py",
   "mimetype": "text/x-python",
   "name": "python",
   "nbconvert_exporter": "python",
   "pygments_lexer": "ipython3",
   "version": "3.10.2"
  },
  "orig_nbformat": 4
 },
 "nbformat": 4,
 "nbformat_minor": 2
}
