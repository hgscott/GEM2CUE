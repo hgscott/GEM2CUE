{
 "cells": [
  {
   "cell_type": "markdown",
   "metadata": {},
   "source": [
    "# Carbon Use Efficiency of Marine Heterotrophs"
   ]
  },
  {
   "cell_type": "code",
   "execution_count": 1,
   "metadata": {},
   "outputs": [],
   "source": [
    "import cobra\n",
    "import os\n",
    "import pandas as pd"
   ]
  },
  {
   "cell_type": "code",
   "execution_count": 2,
   "metadata": {},
   "outputs": [],
   "source": [
    "import gem2cue.utils\n",
    "import gem2cue.calculate_cue"
   ]
  },
  {
   "cell_type": "markdown",
   "metadata": {},
   "source": [
    "## Set-up"
   ]
  },
  {
   "cell_type": "code",
   "execution_count": 3,
   "metadata": {},
   "outputs": [],
   "source": [
    "# Read in the meta-data file as a data frame\n",
    "meta_df = pd.read_csv('IAMM_models/strain_metadata.tsv', sep='\\t')"
   ]
  },
  {
   "cell_type": "code",
   "execution_count": 4,
   "metadata": {},
   "outputs": [
    {
     "name": "stdout",
     "output_type": "stream",
     "text": [
      "Scaling...\n",
      " A: min|aij| =  1.000e+00  max|aij| =  1.000e+00  ratio =  1.000e+00\n",
      "Problem data seem to be well scaled\n"
     ]
    }
   ],
   "source": [
    "# For each row, make a Strain object with the model and metadata from the file\n",
    "strain_list = []\n",
    "for index, row in meta_df.iterrows():\n",
    "    strain_list.append(gem2cue.utils.Strain(row['strain'],\n",
    "                                            cobra.io.read_sbml_model(os.path.join('IAMM_models', row['model_file'])),\n",
    "                                            row['gc_content'],\n",
    "                                            row['genome_length']))"
   ]
  },
  {
   "cell_type": "markdown",
   "metadata": {},
   "source": [
    "## Analysis"
   ]
  },
  {
   "cell_type": "markdown",
   "metadata": {},
   "source": [
    "### Experiment 0: Unconstrained"
   ]
  },
  {
   "cell_type": "code",
   "execution_count": 5,
   "metadata": {},
   "outputs": [],
   "source": [
    "# Make an experiment for each Strain\n",
    "unconstrained_experiments = [gem2cue.utils.Experiment(strain) for strain in strain_list]"
   ]
  },
  {
   "cell_type": "code",
   "execution_count": 8,
   "metadata": {},
   "outputs": [],
   "source": [
    "# Calculate CUE for all of the Experiments\n",
    "for exp in unconstrained_experiments:\n",
    "    exp.CUE(ex_nomenclature = {'C_e'})"
   ]
  },
  {
   "cell_type": "code",
   "execution_count": 9,
   "metadata": {},
   "outputs": [
    {
     "data": {
      "text/plain": [
       "[0.929988968041063,\n",
       " 0.9722065175819796,\n",
       " 0.9183663412947263,\n",
       " 0.9353799428659736,\n",
       " 0.9210811420948846,\n",
       " 0.9492155844123632,\n",
       " 0.9658093219636259,\n",
       " 0.943761032450686,\n",
       " 0.9477273988399106,\n",
       " 0.9611598005910966,\n",
       " 0.9405305392893145,\n",
       " 0.9291461564275129]"
      ]
     },
     "execution_count": 9,
     "metadata": {},
     "output_type": "execute_result"
    }
   ],
   "source": [
    "# Pull out all of the CUE results\n",
    "[exp.cue for exp in unconstrained_experiments]"
   ]
  },
  {
   "cell_type": "markdown",
   "metadata": {},
   "source": [
    "### Experiment 1: Glucose"
   ]
  },
  {
   "cell_type": "code",
   "execution_count": 10,
   "metadata": {},
   "outputs": [],
   "source": [
    "# Make the medium\n",
    "gluc_media = None"
   ]
  },
  {
   "cell_type": "code",
   "execution_count": null,
   "metadata": {},
   "outputs": [],
   "source": [
    "# Make an experiment for each Strain\n",
    "glucose_experiments = [gem2cue.utils.Experiment(strain, gluc_media) for strain in strain_list]"
   ]
  },
  {
   "cell_type": "markdown",
   "metadata": {},
   "source": [
    "### Experiment 2: Acetate"
   ]
  },
  {
   "cell_type": "code",
   "execution_count": null,
   "metadata": {},
   "outputs": [],
   "source": [
    "# Make the medium\n",
    "ace_media = None"
   ]
  },
  {
   "cell_type": "code",
   "execution_count": null,
   "metadata": {},
   "outputs": [],
   "source": [
    "# Make an experiment for each Strain\n",
    "ace_experiments = [gem2cue.utils.Experiment(strain, ace_media) for strain in strain_list]"
   ]
  },
  {
   "cell_type": "markdown",
   "metadata": {},
   "source": [
    "## Visualization"
   ]
  }
 ],
 "metadata": {
  "interpreter": {
   "hash": "065710dd644577000ae0455ed90b8fe02912ddb5a014f65b24543f17874c118c"
  },
  "kernelspec": {
   "display_name": "Python 3.10.2 ('CUE')",
   "language": "python",
   "name": "python3"
  },
  "language_info": {
   "codemirror_mode": {
    "name": "ipython",
    "version": 3
   },
   "file_extension": ".py",
   "mimetype": "text/x-python",
   "name": "python",
   "nbconvert_exporter": "python",
   "pygments_lexer": "ipython3",
   "version": "3.10.2"
  },
  "orig_nbformat": 4
 },
 "nbformat": 4,
 "nbformat_minor": 2
}
