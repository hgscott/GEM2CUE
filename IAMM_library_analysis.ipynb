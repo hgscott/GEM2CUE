{
 "cells": [
  {
   "cell_type": "markdown",
   "metadata": {},
   "source": [
    "# Carbon Use Efficiency of Marine Heterotrophs"
   ]
  },
  {
   "cell_type": "code",
   "execution_count": 1,
   "metadata": {},
   "outputs": [],
   "source": [
    "import cobra\n",
    "import os\n",
    "import pandas as pd"
   ]
  },
  {
   "cell_type": "code",
   "execution_count": 2,
   "metadata": {},
   "outputs": [],
   "source": [
    "import gem2cue.utils\n",
    "import gem2cue.calculate_cue"
   ]
  },
  {
   "cell_type": "markdown",
   "metadata": {},
   "source": [
    "## Set-up"
   ]
  },
  {
   "cell_type": "code",
   "execution_count": 3,
   "metadata": {},
   "outputs": [],
   "source": [
    "# Read in the meta-data file as a data frame\n",
    "meta_df = pd.read_csv('IAMM_models/strain_metadata.tsv', sep='\\t')"
   ]
  },
  {
   "cell_type": "code",
   "execution_count": 4,
   "metadata": {},
   "outputs": [
    {
     "data": {
      "text/html": [
       "<div>\n",
       "<style scoped>\n",
       "    .dataframe tbody tr th:only-of-type {\n",
       "        vertical-align: middle;\n",
       "    }\n",
       "\n",
       "    .dataframe tbody tr th {\n",
       "        vertical-align: top;\n",
       "    }\n",
       "\n",
       "    .dataframe thead th {\n",
       "        text-align: right;\n",
       "    }\n",
       "</style>\n",
       "<table border=\"1\" class=\"dataframe\">\n",
       "  <thead>\n",
       "    <tr style=\"text-align: right;\">\n",
       "      <th></th>\n",
       "      <th>strain</th>\n",
       "      <th>model_file</th>\n",
       "      <th>gc_content</th>\n",
       "      <th>genome_length</th>\n",
       "    </tr>\n",
       "  </thead>\n",
       "  <tbody>\n",
       "    <tr>\n",
       "      <th>0</th>\n",
       "      <td>Bork</td>\n",
       "      <td>Bork-LB.xml</td>\n",
       "      <td>0.547278</td>\n",
       "      <td>3120143</td>\n",
       "    </tr>\n",
       "    <tr>\n",
       "      <th>1</th>\n",
       "      <td>Dies</td>\n",
       "      <td>Dies-LB.xml</td>\n",
       "      <td>0.616316</td>\n",
       "      <td>4928223</td>\n",
       "    </tr>\n",
       "    <tr>\n",
       "      <th>2</th>\n",
       "      <td>Hot1A3</td>\n",
       "      <td>Hot1A3-LB.xml</td>\n",
       "      <td>0.446714</td>\n",
       "      <td>4801807</td>\n",
       "    </tr>\n",
       "    <tr>\n",
       "      <th>3</th>\n",
       "      <td>BS11</td>\n",
       "      <td>BS11-LB.xml</td>\n",
       "      <td>0.446078</td>\n",
       "      <td>4480507</td>\n",
       "    </tr>\n",
       "    <tr>\n",
       "      <th>4</th>\n",
       "      <td>DE</td>\n",
       "      <td>DE-LB.xml</td>\n",
       "      <td>0.448687</td>\n",
       "      <td>4480937</td>\n",
       "    </tr>\n",
       "    <tr>\n",
       "      <th>5</th>\n",
       "      <td>Cstat</td>\n",
       "      <td>Cstat-LB.xml</td>\n",
       "      <td>0.548907</td>\n",
       "      <td>2862233</td>\n",
       "    </tr>\n",
       "    <tr>\n",
       "      <th>6</th>\n",
       "      <td>DFL12</td>\n",
       "      <td>DFL12-LB.xml</td>\n",
       "      <td>0.655246</td>\n",
       "      <td>4417868</td>\n",
       "    </tr>\n",
       "    <tr>\n",
       "      <th>7</th>\n",
       "      <td>Kuro</td>\n",
       "      <td>Kuro-LB.xml</td>\n",
       "      <td>0.470156</td>\n",
       "      <td>3850372</td>\n",
       "    </tr>\n",
       "    <tr>\n",
       "      <th>8</th>\n",
       "      <td>HP15</td>\n",
       "      <td>HP15-LB.xml</td>\n",
       "      <td>0.568599</td>\n",
       "      <td>4651725</td>\n",
       "    </tr>\n",
       "    <tr>\n",
       "      <th>9</th>\n",
       "      <td>MMB1</td>\n",
       "      <td>MMB1-LB.xml</td>\n",
       "      <td>0.441275</td>\n",
       "      <td>4684316</td>\n",
       "    </tr>\n",
       "    <tr>\n",
       "      <th>10</th>\n",
       "      <td>Abie</td>\n",
       "      <td>Abie-LB.xml</td>\n",
       "      <td>0.594365</td>\n",
       "      <td>7222451</td>\n",
       "    </tr>\n",
       "    <tr>\n",
       "      <th>11</th>\n",
       "      <td>DSS-3</td>\n",
       "      <td>DSS-3-LB.xml</td>\n",
       "      <td>0.640696</td>\n",
       "      <td>4601048</td>\n",
       "    </tr>\n",
       "  </tbody>\n",
       "</table>\n",
       "</div>"
      ],
      "text/plain": [
       "    strain     model_file  gc_content  genome_length\n",
       "0     Bork    Bork-LB.xml    0.547278        3120143\n",
       "1     Dies    Dies-LB.xml    0.616316        4928223\n",
       "2   Hot1A3  Hot1A3-LB.xml    0.446714        4801807\n",
       "3     BS11    BS11-LB.xml    0.446078        4480507\n",
       "4       DE      DE-LB.xml    0.448687        4480937\n",
       "5    Cstat   Cstat-LB.xml    0.548907        2862233\n",
       "6    DFL12   DFL12-LB.xml    0.655246        4417868\n",
       "7     Kuro    Kuro-LB.xml    0.470156        3850372\n",
       "8     HP15    HP15-LB.xml    0.568599        4651725\n",
       "9     MMB1    MMB1-LB.xml    0.441275        4684316\n",
       "10    Abie    Abie-LB.xml    0.594365        7222451\n",
       "11   DSS-3   DSS-3-LB.xml    0.640696        4601048"
      ]
     },
     "execution_count": 4,
     "metadata": {},
     "output_type": "execute_result"
    }
   ],
   "source": [
    "meta_df"
   ]
  },
  {
   "cell_type": "code",
   "execution_count": 5,
   "metadata": {},
   "outputs": [
    {
     "name": "stdout",
     "output_type": "stream",
     "text": [
      "Scaling...\n",
      " A: min|aij| =  1.000e+00  max|aij| =  1.000e+00  ratio =  1.000e+00\n",
      "Problem data seem to be well scaled\n"
     ]
    }
   ],
   "source": [
    "# For each row, make a Strain object with the model and metadata from the file\n",
    "strain_list = []\n",
    "for index, row in meta_df.iterrows():\n",
    "    strain_list.append(gem2cue.utils.Strain(row['strain'],\n",
    "                                            cobra.io.read_sbml_model(os.path.join('IAMM_models', row['model_file'])),\n",
    "                                            row['gc_content'],\n",
    "                                            row['genome_length']))"
   ]
  },
  {
   "cell_type": "code",
   "execution_count": 6,
   "metadata": {},
   "outputs": [
    {
     "data": {
      "text/plain": [
       "[<gem2cue.utils.Strain at 0x7f4173a05750>,\n",
       " <gem2cue.utils.Strain at 0x7f417506d300>,\n",
       " <gem2cue.utils.Strain at 0x7f417506df00>,\n",
       " <gem2cue.utils.Strain at 0x7f41723a2500>,\n",
       " <gem2cue.utils.Strain at 0x7f41731e0520>,\n",
       " <gem2cue.utils.Strain at 0x7f41fc5b6560>,\n",
       " <gem2cue.utils.Strain at 0x7f416ee77fd0>,\n",
       " <gem2cue.utils.Strain at 0x7f416dfdfe80>,\n",
       " <gem2cue.utils.Strain at 0x7f4170b2f9d0>,\n",
       " <gem2cue.utils.Strain at 0x7f416d69e230>,\n",
       " <gem2cue.utils.Strain at 0x7f4174f44580>,\n",
       " <gem2cue.utils.Strain at 0x7f4167a2b3a0>]"
      ]
     },
     "execution_count": 6,
     "metadata": {},
     "output_type": "execute_result"
    }
   ],
   "source": [
    "strain_list"
   ]
  },
  {
   "cell_type": "markdown",
   "metadata": {},
   "source": [
    "## Analysis"
   ]
  },
  {
   "cell_type": "markdown",
   "metadata": {},
   "source": [
    "### Experiment 0: Unconstrained"
   ]
  },
  {
   "cell_type": "code",
   "execution_count": 9,
   "metadata": {},
   "outputs": [],
   "source": [
    "# Set the media to be the same as in one of the strains\n",
    "media = strain_list[0].model.medium\n",
    "\n",
    "# Make an experiment for each Strain\n",
    "unconstrained_experiments = [gem2cue.utils.Experiment(strain, media) for strain in strain_list]"
   ]
  },
  {
   "cell_type": "code",
   "execution_count": 13,
   "metadata": {},
   "outputs": [
    {
     "ename": "AttributeError",
     "evalue": "'Experiment' object has no attribute 'model'",
     "output_type": "error",
     "traceback": [
      "\u001b[0;31m---------------------------------------------------------------------------\u001b[0m",
      "\u001b[0;31mAttributeError\u001b[0m                            Traceback (most recent call last)",
      "\u001b[1;32m/home/helen/Documents/PhD/Segre Lab/GEM2CUE/IAMM_library_analysis.ipynb Cell 12'\u001b[0m in \u001b[0;36m<cell line: 2>\u001b[0;34m()\u001b[0m\n\u001b[1;32m      <a href='vscode-notebook-cell:/home/helen/Documents/PhD/Segre%20Lab/GEM2CUE/IAMM_library_analysis.ipynb#ch0000026?line=0'>1</a>\u001b[0m \u001b[39m# Calculate CUE for all of the Experiments\u001b[39;00m\n\u001b[1;32m      <a href='vscode-notebook-cell:/home/helen/Documents/PhD/Segre%20Lab/GEM2CUE/IAMM_library_analysis.ipynb#ch0000026?line=1'>2</a>\u001b[0m \u001b[39mfor\u001b[39;00m exp \u001b[39min\u001b[39;00m unconstrained_experiments:\n\u001b[0;32m----> <a href='vscode-notebook-cell:/home/helen/Documents/PhD/Segre%20Lab/GEM2CUE/IAMM_library_analysis.ipynb#ch0000026?line=2'>3</a>\u001b[0m     exp\u001b[39m.\u001b[39;49mCUE(ex_nomenclature \u001b[39m=\u001b[39;49m {\u001b[39m'\u001b[39;49m\u001b[39mC_e\u001b[39;49m\u001b[39m'\u001b[39;49m})\n",
      "File \u001b[0;32m~/Documents/PhD/Segre Lab/GEM2CUE/gem2cue/utils.py:117\u001b[0m, in \u001b[0;36mExperiment.CUE\u001b[0;34m(self, co2_rxn, ex_nomenclature, definition)\u001b[0m\n\u001b[1;32m    <a href='file:///home/helen/Documents/PhD/Segre%20Lab/GEM2CUE/gem2cue/utils.py?line=114'>115</a>\u001b[0m \u001b[39m# If the experiment does not have a solution, run it\u001b[39;00m\n\u001b[1;32m    <a href='file:///home/helen/Documents/PhD/Segre%20Lab/GEM2CUE/gem2cue/utils.py?line=115'>116</a>\u001b[0m \u001b[39mif\u001b[39;00m \u001b[39mself\u001b[39m\u001b[39m.\u001b[39msolution \u001b[39mis\u001b[39;00m \u001b[39mNone\u001b[39;00m:\n\u001b[0;32m--> <a href='file:///home/helen/Documents/PhD/Segre%20Lab/GEM2CUE/gem2cue/utils.py?line=116'>117</a>\u001b[0m     \u001b[39mself\u001b[39;49m\u001b[39m.\u001b[39;49mrun()\n\u001b[1;32m    <a href='file:///home/helen/Documents/PhD/Segre%20Lab/GEM2CUE/gem2cue/utils.py?line=118'>119</a>\u001b[0m \u001b[39m# Get C atoms for each exchange reaction\u001b[39;00m\n\u001b[1;32m    <a href='file:///home/helen/Documents/PhD/Segre%20Lab/GEM2CUE/gem2cue/utils.py?line=119'>120</a>\u001b[0m ex_c_atoms \u001b[39m=\u001b[39m \u001b[39mself\u001b[39m\u001b[39m.\u001b[39m_atomExchangeMetabolite(ex_nomenclatue\u001b[39m=\u001b[39mex_nomenclature)\n",
      "File \u001b[0;32m~/Documents/PhD/Segre Lab/GEM2CUE/gem2cue/utils.py:68\u001b[0m, in \u001b[0;36mExperiment.run\u001b[0;34m(self)\u001b[0m\n\u001b[1;32m     <a href='file:///home/helen/Documents/PhD/Segre%20Lab/GEM2CUE/gem2cue/utils.py?line=64'>65</a>\u001b[0m     warnings\u001b[39m.\u001b[39mwarn(\u001b[39m'\u001b[39m\u001b[39mThere is already a solution saved to this experiment, running will overwrite those results\u001b[39m\u001b[39m'\u001b[39m)\n\u001b[1;32m     <a href='file:///home/helen/Documents/PhD/Segre%20Lab/GEM2CUE/gem2cue/utils.py?line=66'>67</a>\u001b[0m \u001b[39m# Change the media cobrapy is using to match what is in the experiment\u001b[39;00m\n\u001b[0;32m---> <a href='file:///home/helen/Documents/PhD/Segre%20Lab/GEM2CUE/gem2cue/utils.py?line=67'>68</a>\u001b[0m \u001b[39mself\u001b[39;49m\u001b[39m.\u001b[39;49mmodel\u001b[39m.\u001b[39mmedium \u001b[39m=\u001b[39m \u001b[39mself\u001b[39m\u001b[39m.\u001b[39mmedia\n\u001b[1;32m     <a href='file:///home/helen/Documents/PhD/Segre%20Lab/GEM2CUE/gem2cue/utils.py?line=69'>70</a>\u001b[0m \u001b[39m# Solve FBA\u001b[39;00m\n\u001b[1;32m     <a href='file:///home/helen/Documents/PhD/Segre%20Lab/GEM2CUE/gem2cue/utils.py?line=70'>71</a>\u001b[0m sol \u001b[39m=\u001b[39m \u001b[39mself\u001b[39m\u001b[39m.\u001b[39mstrain\u001b[39m.\u001b[39mmodel\u001b[39m.\u001b[39moptimize()\n",
      "\u001b[0;31mAttributeError\u001b[0m: 'Experiment' object has no attribute 'model'"
     ]
    }
   ],
   "source": [
    "# Calculate CUE for all of the Experiments\n",
    "for exp in unconstrained_experiments:\n",
    "    exp.CUE(ex_nomenclature = {'C_e'})"
   ]
  },
  {
   "cell_type": "code",
   "execution_count": 12,
   "metadata": {},
   "outputs": [
    {
     "data": {
      "text/plain": [
       "[None, None, None, None, None, None, None, None, None, None, None, None]"
      ]
     },
     "execution_count": 12,
     "metadata": {},
     "output_type": "execute_result"
    }
   ],
   "source": [
    "# Pull out all of the CUE results\n",
    "[exp.cue for exp in unconstrained_experiments]"
   ]
  },
  {
   "cell_type": "markdown",
   "metadata": {},
   "source": [
    "### Experiment 1: Glucose"
   ]
  },
  {
   "cell_type": "code",
   "execution_count": null,
   "metadata": {},
   "outputs": [],
   "source": [
    "# Make the medium I want all to use for all of the "
   ]
  },
  {
   "cell_type": "markdown",
   "metadata": {},
   "source": [
    "### Experiment 2: Acetate"
   ]
  },
  {
   "cell_type": "code",
   "execution_count": null,
   "metadata": {},
   "outputs": [],
   "source": []
  },
  {
   "cell_type": "markdown",
   "metadata": {},
   "source": [
    "## Visualization"
   ]
  }
 ],
 "metadata": {
  "interpreter": {
   "hash": "065710dd644577000ae0455ed90b8fe02912ddb5a014f65b24543f17874c118c"
  },
  "kernelspec": {
   "display_name": "Python 3.10.2 ('CUE')",
   "language": "python",
   "name": "python3"
  },
  "language_info": {
   "codemirror_mode": {
    "name": "ipython",
    "version": 3
   },
   "file_extension": ".py",
   "mimetype": "text/x-python",
   "name": "python",
   "nbconvert_exporter": "python",
   "pygments_lexer": "ipython3",
   "version": "3.10.2"
  },
  "orig_nbformat": 4
 },
 "nbformat": 4,
 "nbformat_minor": 2
}
