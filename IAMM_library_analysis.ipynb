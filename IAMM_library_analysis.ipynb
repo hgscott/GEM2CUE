{
 "cells": [
  {
   "cell_type": "markdown",
   "metadata": {},
   "source": [
    "# Carbon Use Efficiency of Marine Heterotrophs"
   ]
  },
  {
   "cell_type": "code",
   "execution_count": 1,
   "metadata": {},
   "outputs": [],
   "source": [
    "import cobra\n",
    "import os\n",
    "import pandas as pd"
   ]
  },
  {
   "cell_type": "code",
   "execution_count": 2,
   "metadata": {},
   "outputs": [],
   "source": [
    "import gem2cue.utils\n",
    "import gem2cue.calculate_cue"
   ]
  },
  {
   "cell_type": "markdown",
   "metadata": {},
   "source": [
    "## Set-up"
   ]
  },
  {
   "cell_type": "code",
   "execution_count": 3,
   "metadata": {},
   "outputs": [],
   "source": [
    "# Read in the meta-data file as a data frame\n",
    "meta_df = pd.read_csv('IAMM_models/strain_metadata.tsv', sep='\\t')"
   ]
  },
  {
   "cell_type": "code",
   "execution_count": 4,
   "metadata": {},
   "outputs": [
    {
     "name": "stdout",
     "output_type": "stream",
     "text": [
      "Scaling...\n",
      " A: min|aij| =  1.000e+00  max|aij| =  1.000e+00  ratio =  1.000e+00\n",
      "Problem data seem to be well scaled\n"
     ]
    }
   ],
   "source": [
    "# For each row, make a Strain object with the model and metadata from the file\n",
    "strain_list = []\n",
    "for index, row in meta_df.iterrows():\n",
    "    strain_list.append(gem2cue.utils.Strain(row['strain'],\n",
    "                                            cobra.io.read_sbml_model(os.path.join('IAMM_models', row['model_file'])),\n",
    "                                            row['gc_content'],\n",
    "                                            row['genome_length']))"
   ]
  },
  {
   "cell_type": "markdown",
   "metadata": {},
   "source": [
    "## Analysis"
   ]
  },
  {
   "cell_type": "markdown",
   "metadata": {},
   "source": [
    "### Experiment 0: Unconstrained"
   ]
  },
  {
   "cell_type": "code",
   "execution_count": 5,
   "metadata": {},
   "outputs": [],
   "source": [
    "# Set the media to be the same as in one of the strains\n",
    "media = strain_list[0].model.medium\n",
    "\n",
    "# Make an experiment for each Strain\n",
    "unconstrained_experiments = [gem2cue.utils.Experiment(strain, media) for strain in strain_list]"
   ]
  },
  {
   "cell_type": "code",
   "execution_count": 6,
   "metadata": {},
   "outputs": [
    {
     "ename": "TypeError",
     "evalue": "Experiment._atomExchangeMetabolite() got an unexpected keyword argument 'ex_nomenclatue'",
     "output_type": "error",
     "traceback": [
      "\u001b[0;31m---------------------------------------------------------------------------\u001b[0m",
      "\u001b[0;31mTypeError\u001b[0m                                 Traceback (most recent call last)",
      "\u001b[1;32m/home/helen/Documents/PhD/Segre Lab/GEM2CUE/IAMM_library_analysis.ipynb Cell 10'\u001b[0m in \u001b[0;36m<cell line: 2>\u001b[0;34m()\u001b[0m\n\u001b[1;32m      <a href='vscode-notebook-cell:/home/helen/Documents/PhD/Segre%20Lab/GEM2CUE/IAMM_library_analysis.ipynb#ch0000026?line=0'>1</a>\u001b[0m \u001b[39m# Calculate CUE for all of the Experiments\u001b[39;00m\n\u001b[1;32m      <a href='vscode-notebook-cell:/home/helen/Documents/PhD/Segre%20Lab/GEM2CUE/IAMM_library_analysis.ipynb#ch0000026?line=1'>2</a>\u001b[0m \u001b[39mfor\u001b[39;00m exp \u001b[39min\u001b[39;00m unconstrained_experiments:\n\u001b[0;32m----> <a href='vscode-notebook-cell:/home/helen/Documents/PhD/Segre%20Lab/GEM2CUE/IAMM_library_analysis.ipynb#ch0000026?line=2'>3</a>\u001b[0m     exp\u001b[39m.\u001b[39;49mCUE(ex_nomenclature \u001b[39m=\u001b[39;49m {\u001b[39m'\u001b[39;49m\u001b[39mC_e\u001b[39;49m\u001b[39m'\u001b[39;49m})\n",
      "File \u001b[0;32m~/Documents/PhD/Segre Lab/GEM2CUE/gem2cue/utils.py:120\u001b[0m, in \u001b[0;36mExperiment.CUE\u001b[0;34m(self, co2_rxn, ex_nomenclature, definition)\u001b[0m\n\u001b[1;32m    <a href='file:///home/helen/Documents/PhD/Segre%20Lab/GEM2CUE/gem2cue/utils.py?line=116'>117</a>\u001b[0m     \u001b[39mself\u001b[39m\u001b[39m.\u001b[39mrun()\n\u001b[1;32m    <a href='file:///home/helen/Documents/PhD/Segre%20Lab/GEM2CUE/gem2cue/utils.py?line=118'>119</a>\u001b[0m \u001b[39m# Get C atoms for each exchange reaction\u001b[39;00m\n\u001b[0;32m--> <a href='file:///home/helen/Documents/PhD/Segre%20Lab/GEM2CUE/gem2cue/utils.py?line=119'>120</a>\u001b[0m ex_c_atoms \u001b[39m=\u001b[39m \u001b[39mself\u001b[39;49m\u001b[39m.\u001b[39;49m_atomExchangeMetabolite(ex_nomenclatue\u001b[39m=\u001b[39;49mex_nomenclature)\n\u001b[1;32m    <a href='file:///home/helen/Documents/PhD/Segre%20Lab/GEM2CUE/gem2cue/utils.py?line=121'>122</a>\u001b[0m \u001b[39m# Calculate CUE using one of the following definitions\u001b[39;00m\n\u001b[1;32m    <a href='file:///home/helen/Documents/PhD/Segre%20Lab/GEM2CUE/gem2cue/utils.py?line=122'>123</a>\u001b[0m \u001b[39mif\u001b[39;00m definition \u001b[39m==\u001b[39m \u001b[39m'\u001b[39m\u001b[39mrCUE\u001b[39m\u001b[39m'\u001b[39m:\n\u001b[1;32m    <a href='file:///home/helen/Documents/PhD/Segre%20Lab/GEM2CUE/gem2cue/utils.py?line=123'>124</a>\u001b[0m     \u001b[39m# Subset to uptake reactions (negative flux)\u001b[39;00m\n",
      "\u001b[0;31mTypeError\u001b[0m: Experiment._atomExchangeMetabolite() got an unexpected keyword argument 'ex_nomenclatue'"
     ]
    }
   ],
   "source": [
    "# Calculate CUE for all of the Experiments\n",
    "for exp in unconstrained_experiments:\n",
    "    exp.CUE(ex_nomenclature = {'C_e'})"
   ]
  },
  {
   "cell_type": "code",
   "execution_count": null,
   "metadata": {},
   "outputs": [],
   "source": [
    "# Pull out all of the CUE results\n",
    "[exp.cue for exp in unconstrained_experiments]"
   ]
  },
  {
   "cell_type": "markdown",
   "metadata": {},
   "source": [
    "### Experiment 1: Glucose"
   ]
  },
  {
   "cell_type": "code",
   "execution_count": null,
   "metadata": {},
   "outputs": [],
   "source": [
    "# Make the medium I want all to use for all of the "
   ]
  },
  {
   "cell_type": "markdown",
   "metadata": {},
   "source": [
    "### Experiment 2: Acetate"
   ]
  },
  {
   "cell_type": "code",
   "execution_count": null,
   "metadata": {},
   "outputs": [],
   "source": []
  },
  {
   "cell_type": "markdown",
   "metadata": {},
   "source": [
    "## Visualization"
   ]
  }
 ],
 "metadata": {
  "interpreter": {
   "hash": "065710dd644577000ae0455ed90b8fe02912ddb5a014f65b24543f17874c118c"
  },
  "kernelspec": {
   "display_name": "Python 3.10.2 ('CUE')",
   "language": "python",
   "name": "python3"
  },
  "language_info": {
   "codemirror_mode": {
    "name": "ipython",
    "version": 3
   },
   "file_extension": ".py",
   "mimetype": "text/x-python",
   "name": "python",
   "nbconvert_exporter": "python",
   "pygments_lexer": "ipython3",
   "version": "3.10.2"
  },
  "orig_nbformat": 4
 },
 "nbformat": 4,
 "nbformat_minor": 2
}
