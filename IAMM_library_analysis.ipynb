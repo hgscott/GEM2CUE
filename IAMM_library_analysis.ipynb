{
 "cells": [
  {
   "cell_type": "markdown",
   "metadata": {},
   "source": [
    "# Carbon Use Efficiency of Marine Heterotrophs"
   ]
  },
  {
   "cell_type": "code",
   "execution_count": 1,
   "metadata": {},
   "outputs": [],
   "source": [
    "import cobra\n",
    "import os\n",
    "import pandas as pd"
   ]
  },
  {
   "cell_type": "code",
   "execution_count": 2,
   "metadata": {},
   "outputs": [],
   "source": [
    "import gem2cue.utils\n",
    "import gem2cue.calculate_cue"
   ]
  },
  {
   "cell_type": "markdown",
   "metadata": {},
   "source": [
    "## Set-up"
   ]
  },
  {
   "cell_type": "code",
   "execution_count": 3,
   "metadata": {},
   "outputs": [],
   "source": [
    "# Read in the meta-data file as a data frame\n",
    "meta_df = pd.read_csv('IAMM_models/strain_metadata.tsv', sep='\\t')"
   ]
  },
  {
   "cell_type": "code",
   "execution_count": 4,
   "metadata": {},
   "outputs": [
    {
     "name": "stdout",
     "output_type": "stream",
     "text": [
      "Scaling...\n",
      " A: min|aij| =  1.000e+00  max|aij| =  1.000e+00  ratio =  1.000e+00\n",
      "Problem data seem to be well scaled\n"
     ]
    }
   ],
   "source": [
    "# For each row, make a Strain object with the model and metadata from the file\n",
    "strain_list = []\n",
    "for index, row in meta_df.iterrows():\n",
    "    strain_list.append(gem2cue.utils.Strain(row['strain'],\n",
    "                                            cobra.io.read_sbml_model(os.path.join('IAMM_models', row['model_file'])),\n",
    "                                            row['gc_content'],\n",
    "                                            row['genome_length']))"
   ]
  },
  {
   "cell_type": "markdown",
   "metadata": {},
   "source": [
    "## Analysis"
   ]
  },
  {
   "cell_type": "markdown",
   "metadata": {},
   "source": [
    "### Experiment 0: Unconstrained"
   ]
  },
  {
   "cell_type": "code",
   "execution_count": 5,
   "metadata": {},
   "outputs": [],
   "source": [
    "# Make an experiment for each Strain\n",
    "unconstrained_experiments = [gem2cue.utils.Experiment(strain) for strain in strain_list]"
   ]
  },
  {
   "cell_type": "code",
   "execution_count": 12,
   "metadata": {},
   "outputs": [
    {
     "name": "stderr",
     "output_type": "stream",
     "text": [
      "/home/helen/Documents/PhD/Segre Lab/GEM2CUE/gem2cue/utils.py:123: UserWarning: There is already a cue value saved to this experiment, running will overwrite those results\n",
      "  warnings.warn('There is already a cue value saved to this experiment, running will overwrite those results')\n"
     ]
    }
   ],
   "source": [
    "# Calculate CUE for all of the Experiments\n",
    "for exp in unconstrained_experiments:\n",
    "    exp.CUE(ex_nomenclature = {'C_e'}, definition = 'GGE')"
   ]
  },
  {
   "cell_type": "code",
   "execution_count": 13,
   "metadata": {},
   "outputs": [
    {
     "data": {
      "text/plain": [
       "[-0.5126555022811595,\n",
       " 0.0786720878079989,\n",
       " 0.19885880587321378,\n",
       " 0.13635572361082046,\n",
       " 0.16600929517286614,\n",
       " 0.10392165400184133,\n",
       " 0.10350326397116692,\n",
       " 0.08942391113960382,\n",
       " 0.12974260255140072,\n",
       " 0.09555268280760942,\n",
       " 0.18737442388610656,\n",
       " 0.20105658625334544]"
      ]
     },
     "execution_count": 13,
     "metadata": {},
     "output_type": "execute_result"
    }
   ],
   "source": [
    "# Pull out all of the CUE results\n",
    "[exp.cue for exp in unconstrained_experiments]"
   ]
  },
  {
   "cell_type": "markdown",
   "metadata": {},
   "source": [
    "### Experiment 1: Glucose"
   ]
  },
  {
   "cell_type": "code",
   "execution_count": 8,
   "metadata": {},
   "outputs": [],
   "source": [
    "# Make the medium\n",
    "gluc_media = None"
   ]
  },
  {
   "cell_type": "code",
   "execution_count": 9,
   "metadata": {},
   "outputs": [],
   "source": [
    "# Make an experiment for each Strain\n",
    "glucose_experiments = [gem2cue.utils.Experiment(strain, gluc_media) for strain in strain_list]"
   ]
  },
  {
   "cell_type": "markdown",
   "metadata": {},
   "source": [
    "### Experiment 2: Acetate"
   ]
  },
  {
   "cell_type": "code",
   "execution_count": 10,
   "metadata": {},
   "outputs": [],
   "source": [
    "# Make the medium\n",
    "ace_media = None"
   ]
  },
  {
   "cell_type": "code",
   "execution_count": 11,
   "metadata": {},
   "outputs": [],
   "source": [
    "# Make an experiment for each Strain\n",
    "ace_experiments = [gem2cue.utils.Experiment(strain, ace_media) for strain in strain_list]"
   ]
  },
  {
   "cell_type": "markdown",
   "metadata": {},
   "source": [
    "## Visualization"
   ]
  }
 ],
 "metadata": {
  "interpreter": {
   "hash": "065710dd644577000ae0455ed90b8fe02912ddb5a014f65b24543f17874c118c"
  },
  "kernelspec": {
   "display_name": "Python 3.10.2 ('CUE')",
   "language": "python",
   "name": "python3"
  },
  "language_info": {
   "codemirror_mode": {
    "name": "ipython",
    "version": 3
   },
   "file_extension": ".py",
   "mimetype": "text/x-python",
   "name": "python",
   "nbconvert_exporter": "python",
   "pygments_lexer": "ipython3",
   "version": "3.10.2"
  },
  "orig_nbformat": 4
 },
 "nbformat": 4,
 "nbformat_minor": 2
}
